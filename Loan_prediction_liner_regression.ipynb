{
  "nbformat": 4,
  "nbformat_minor": 0,
  "metadata": {
    "colab": {
      "provenance": [],
      "include_colab_link": true
    },
    "kernelspec": {
      "name": "python3",
      "display_name": "Python 3"
    },
    "language_info": {
      "name": "python"
    }
  },
  "cells": [
    {
      "cell_type": "markdown",
      "metadata": {
        "id": "view-in-github",
        "colab_type": "text"
      },
      "source": [
        "<a href=\"https://colab.research.google.com/github/beitezhu/machinelearning/blob/main/beite_case_2_homework.ipynb\" target=\"_parent\"><img src=\"https://colab.research.google.com/assets/colab-badge.svg\" alt=\"Open In Colab\"/></a>"
      ]
    },
    {
      "cell_type": "code",
      "execution_count": null,
      "metadata": {
        "id": "geVUzdO4cWeA"
      },
      "outputs": [],
      "source": [
        "## read the data\n",
        "import pandas as pd\n",
        "from sklearn.model_selection import train_test_split\n",
        "from sklearn.metrics import accuracy_score\n",
        "import statsmodels.formula.api as smf\n",
        "\n",
        "df = pd.read_csv('https://raw.githubusercontent.com/amandeep0/IS451/main/data/loans.csv')"
      ]
    },
    {
      "cell_type": "code",
      "source": [
        "##summarize the data structure\n",
        "df.info()"
      ],
      "metadata": {
        "colab": {
          "base_uri": "https://localhost:8080/"
        },
        "id": "WK5LbCqgdooi",
        "outputId": "ba4adc5d-f004-4df2-8f7e-1ce9bffc3bc1"
      },
      "execution_count": null,
      "outputs": [
        {
          "output_type": "stream",
          "name": "stdout",
          "text": [
            "<class 'pandas.core.frame.DataFrame'>\n",
            "RangeIndex: 9578 entries, 0 to 9577\n",
            "Data columns (total 14 columns):\n",
            " #   Column          Non-Null Count  Dtype  \n",
            "---  ------          --------------  -----  \n",
            " 0   CreditPolicy    9578 non-null   int64  \n",
            " 1   Purpose         9578 non-null   object \n",
            " 2   IntRate         9578 non-null   float64\n",
            " 3   Installment     9578 non-null   float64\n",
            " 4   LogAnnualInc    9578 non-null   float64\n",
            " 5   Dti             9578 non-null   float64\n",
            " 6   Fico            9578 non-null   int64  \n",
            " 7   DaysWithCrLine  9578 non-null   float64\n",
            " 8   RevolBal        9578 non-null   int64  \n",
            " 9   RevolUtil       9578 non-null   float64\n",
            " 10  InqLast6mths    9578 non-null   int64  \n",
            " 11  Delinq2yrs      9578 non-null   int64  \n",
            " 12  PubRec          9578 non-null   int64  \n",
            " 13  NotFullyPaid    9578 non-null   int64  \n",
            "dtypes: float64(6), int64(7), object(1)\n",
            "memory usage: 1.0+ MB\n"
          ]
        }
      ]
    },
    {
      "cell_type": "code",
      "source": [
        "df.head( )"
      ],
      "metadata": {
        "colab": {
          "base_uri": "https://localhost:8080/",
          "height": 206
        },
        "id": "tYPKIzKujNMl",
        "outputId": "33b02114-f145-48d1-8db0-6bb41dd27fdb"
      },
      "execution_count": null,
      "outputs": [
        {
          "output_type": "execute_result",
          "data": {
            "text/plain": [
              "   CreditPolicy             Purpose  IntRate  Installment  LogAnnualInc  \\\n",
              "0             1  debt_consolidation   0.1189       829.10     11.350407   \n",
              "1             1         credit_card   0.1071       228.22     11.082143   \n",
              "2             1  debt_consolidation   0.1357       366.86     10.373491   \n",
              "3             1  debt_consolidation   0.1008       162.34     11.350407   \n",
              "4             1         credit_card   0.1426       102.92     11.299732   \n",
              "\n",
              "     Dti  Fico  DaysWithCrLine  RevolBal  RevolUtil  InqLast6mths  Delinq2yrs  \\\n",
              "0  19.48   737     5639.958333     28854       52.1             0           0   \n",
              "1  14.29   707     2760.000000     33623       76.7             0           0   \n",
              "2  11.63   682     4710.000000      3511       25.6             1           0   \n",
              "3   8.10   712     2699.958333     33667       73.2             1           0   \n",
              "4  14.97   667     4066.000000      4740       39.5             0           1   \n",
              "\n",
              "   PubRec  NotFullyPaid  \n",
              "0       0             0  \n",
              "1       0             0  \n",
              "2       0             0  \n",
              "3       0             0  \n",
              "4       0             0  "
            ],
            "text/html": [
              "\n",
              "  <div id=\"df-4b6fb2cc-98d5-4a99-b71f-afbbd847ba7e\" class=\"colab-df-container\">\n",
              "    <div>\n",
              "<style scoped>\n",
              "    .dataframe tbody tr th:only-of-type {\n",
              "        vertical-align: middle;\n",
              "    }\n",
              "\n",
              "    .dataframe tbody tr th {\n",
              "        vertical-align: top;\n",
              "    }\n",
              "\n",
              "    .dataframe thead th {\n",
              "        text-align: right;\n",
              "    }\n",
              "</style>\n",
              "<table border=\"1\" class=\"dataframe\">\n",
              "  <thead>\n",
              "    <tr style=\"text-align: right;\">\n",
              "      <th></th>\n",
              "      <th>CreditPolicy</th>\n",
              "      <th>Purpose</th>\n",
              "      <th>IntRate</th>\n",
              "      <th>Installment</th>\n",
              "      <th>LogAnnualInc</th>\n",
              "      <th>Dti</th>\n",
              "      <th>Fico</th>\n",
              "      <th>DaysWithCrLine</th>\n",
              "      <th>RevolBal</th>\n",
              "      <th>RevolUtil</th>\n",
              "      <th>InqLast6mths</th>\n",
              "      <th>Delinq2yrs</th>\n",
              "      <th>PubRec</th>\n",
              "      <th>NotFullyPaid</th>\n",
              "    </tr>\n",
              "  </thead>\n",
              "  <tbody>\n",
              "    <tr>\n",
              "      <th>0</th>\n",
              "      <td>1</td>\n",
              "      <td>debt_consolidation</td>\n",
              "      <td>0.1189</td>\n",
              "      <td>829.10</td>\n",
              "      <td>11.350407</td>\n",
              "      <td>19.48</td>\n",
              "      <td>737</td>\n",
              "      <td>5639.958333</td>\n",
              "      <td>28854</td>\n",
              "      <td>52.1</td>\n",
              "      <td>0</td>\n",
              "      <td>0</td>\n",
              "      <td>0</td>\n",
              "      <td>0</td>\n",
              "    </tr>\n",
              "    <tr>\n",
              "      <th>1</th>\n",
              "      <td>1</td>\n",
              "      <td>credit_card</td>\n",
              "      <td>0.1071</td>\n",
              "      <td>228.22</td>\n",
              "      <td>11.082143</td>\n",
              "      <td>14.29</td>\n",
              "      <td>707</td>\n",
              "      <td>2760.000000</td>\n",
              "      <td>33623</td>\n",
              "      <td>76.7</td>\n",
              "      <td>0</td>\n",
              "      <td>0</td>\n",
              "      <td>0</td>\n",
              "      <td>0</td>\n",
              "    </tr>\n",
              "    <tr>\n",
              "      <th>2</th>\n",
              "      <td>1</td>\n",
              "      <td>debt_consolidation</td>\n",
              "      <td>0.1357</td>\n",
              "      <td>366.86</td>\n",
              "      <td>10.373491</td>\n",
              "      <td>11.63</td>\n",
              "      <td>682</td>\n",
              "      <td>4710.000000</td>\n",
              "      <td>3511</td>\n",
              "      <td>25.6</td>\n",
              "      <td>1</td>\n",
              "      <td>0</td>\n",
              "      <td>0</td>\n",
              "      <td>0</td>\n",
              "    </tr>\n",
              "    <tr>\n",
              "      <th>3</th>\n",
              "      <td>1</td>\n",
              "      <td>debt_consolidation</td>\n",
              "      <td>0.1008</td>\n",
              "      <td>162.34</td>\n",
              "      <td>11.350407</td>\n",
              "      <td>8.10</td>\n",
              "      <td>712</td>\n",
              "      <td>2699.958333</td>\n",
              "      <td>33667</td>\n",
              "      <td>73.2</td>\n",
              "      <td>1</td>\n",
              "      <td>0</td>\n",
              "      <td>0</td>\n",
              "      <td>0</td>\n",
              "    </tr>\n",
              "    <tr>\n",
              "      <th>4</th>\n",
              "      <td>1</td>\n",
              "      <td>credit_card</td>\n",
              "      <td>0.1426</td>\n",
              "      <td>102.92</td>\n",
              "      <td>11.299732</td>\n",
              "      <td>14.97</td>\n",
              "      <td>667</td>\n",
              "      <td>4066.000000</td>\n",
              "      <td>4740</td>\n",
              "      <td>39.5</td>\n",
              "      <td>0</td>\n",
              "      <td>1</td>\n",
              "      <td>0</td>\n",
              "      <td>0</td>\n",
              "    </tr>\n",
              "  </tbody>\n",
              "</table>\n",
              "</div>\n",
              "    <div class=\"colab-df-buttons\">\n",
              "\n",
              "  <div class=\"colab-df-container\">\n",
              "    <button class=\"colab-df-convert\" onclick=\"convertToInteractive('df-4b6fb2cc-98d5-4a99-b71f-afbbd847ba7e')\"\n",
              "            title=\"Convert this dataframe to an interactive table.\"\n",
              "            style=\"display:none;\">\n",
              "\n",
              "  <svg xmlns=\"http://www.w3.org/2000/svg\" height=\"24px\" viewBox=\"0 -960 960 960\">\n",
              "    <path d=\"M120-120v-720h720v720H120Zm60-500h600v-160H180v160Zm220 220h160v-160H400v160Zm0 220h160v-160H400v160ZM180-400h160v-160H180v160Zm440 0h160v-160H620v160ZM180-180h160v-160H180v160Zm440 0h160v-160H620v160Z\"/>\n",
              "  </svg>\n",
              "    </button>\n",
              "\n",
              "  <style>\n",
              "    .colab-df-container {\n",
              "      display:flex;\n",
              "      gap: 12px;\n",
              "    }\n",
              "\n",
              "    .colab-df-convert {\n",
              "      background-color: #E8F0FE;\n",
              "      border: none;\n",
              "      border-radius: 50%;\n",
              "      cursor: pointer;\n",
              "      display: none;\n",
              "      fill: #1967D2;\n",
              "      height: 32px;\n",
              "      padding: 0 0 0 0;\n",
              "      width: 32px;\n",
              "    }\n",
              "\n",
              "    .colab-df-convert:hover {\n",
              "      background-color: #E2EBFA;\n",
              "      box-shadow: 0px 1px 2px rgba(60, 64, 67, 0.3), 0px 1px 3px 1px rgba(60, 64, 67, 0.15);\n",
              "      fill: #174EA6;\n",
              "    }\n",
              "\n",
              "    .colab-df-buttons div {\n",
              "      margin-bottom: 4px;\n",
              "    }\n",
              "\n",
              "    [theme=dark] .colab-df-convert {\n",
              "      background-color: #3B4455;\n",
              "      fill: #D2E3FC;\n",
              "    }\n",
              "\n",
              "    [theme=dark] .colab-df-convert:hover {\n",
              "      background-color: #434B5C;\n",
              "      box-shadow: 0px 1px 3px 1px rgba(0, 0, 0, 0.15);\n",
              "      filter: drop-shadow(0px 1px 2px rgba(0, 0, 0, 0.3));\n",
              "      fill: #FFFFFF;\n",
              "    }\n",
              "  </style>\n",
              "\n",
              "    <script>\n",
              "      const buttonEl =\n",
              "        document.querySelector('#df-4b6fb2cc-98d5-4a99-b71f-afbbd847ba7e button.colab-df-convert');\n",
              "      buttonEl.style.display =\n",
              "        google.colab.kernel.accessAllowed ? 'block' : 'none';\n",
              "\n",
              "      async function convertToInteractive(key) {\n",
              "        const element = document.querySelector('#df-4b6fb2cc-98d5-4a99-b71f-afbbd847ba7e');\n",
              "        const dataTable =\n",
              "          await google.colab.kernel.invokeFunction('convertToInteractive',\n",
              "                                                    [key], {});\n",
              "        if (!dataTable) return;\n",
              "\n",
              "        const docLinkHtml = 'Like what you see? Visit the ' +\n",
              "          '<a target=\"_blank\" href=https://colab.research.google.com/notebooks/data_table.ipynb>data table notebook</a>'\n",
              "          + ' to learn more about interactive tables.';\n",
              "        element.innerHTML = '';\n",
              "        dataTable['output_type'] = 'display_data';\n",
              "        await google.colab.output.renderOutput(dataTable, element);\n",
              "        const docLink = document.createElement('div');\n",
              "        docLink.innerHTML = docLinkHtml;\n",
              "        element.appendChild(docLink);\n",
              "      }\n",
              "    </script>\n",
              "  </div>\n",
              "\n",
              "\n",
              "<div id=\"df-ad4bce27-e623-4267-8cb3-fcd085b30732\">\n",
              "  <button class=\"colab-df-quickchart\" onclick=\"quickchart('df-ad4bce27-e623-4267-8cb3-fcd085b30732')\"\n",
              "            title=\"Suggest charts\"\n",
              "            style=\"display:none;\">\n",
              "\n",
              "<svg xmlns=\"http://www.w3.org/2000/svg\" height=\"24px\"viewBox=\"0 0 24 24\"\n",
              "     width=\"24px\">\n",
              "    <g>\n",
              "        <path d=\"M19 3H5c-1.1 0-2 .9-2 2v14c0 1.1.9 2 2 2h14c1.1 0 2-.9 2-2V5c0-1.1-.9-2-2-2zM9 17H7v-7h2v7zm4 0h-2V7h2v10zm4 0h-2v-4h2v4z\"/>\n",
              "    </g>\n",
              "</svg>\n",
              "  </button>\n",
              "\n",
              "<style>\n",
              "  .colab-df-quickchart {\n",
              "      --bg-color: #E8F0FE;\n",
              "      --fill-color: #1967D2;\n",
              "      --hover-bg-color: #E2EBFA;\n",
              "      --hover-fill-color: #174EA6;\n",
              "      --disabled-fill-color: #AAA;\n",
              "      --disabled-bg-color: #DDD;\n",
              "  }\n",
              "\n",
              "  [theme=dark] .colab-df-quickchart {\n",
              "      --bg-color: #3B4455;\n",
              "      --fill-color: #D2E3FC;\n",
              "      --hover-bg-color: #434B5C;\n",
              "      --hover-fill-color: #FFFFFF;\n",
              "      --disabled-bg-color: #3B4455;\n",
              "      --disabled-fill-color: #666;\n",
              "  }\n",
              "\n",
              "  .colab-df-quickchart {\n",
              "    background-color: var(--bg-color);\n",
              "    border: none;\n",
              "    border-radius: 50%;\n",
              "    cursor: pointer;\n",
              "    display: none;\n",
              "    fill: var(--fill-color);\n",
              "    height: 32px;\n",
              "    padding: 0;\n",
              "    width: 32px;\n",
              "  }\n",
              "\n",
              "  .colab-df-quickchart:hover {\n",
              "    background-color: var(--hover-bg-color);\n",
              "    box-shadow: 0 1px 2px rgba(60, 64, 67, 0.3), 0 1px 3px 1px rgba(60, 64, 67, 0.15);\n",
              "    fill: var(--button-hover-fill-color);\n",
              "  }\n",
              "\n",
              "  .colab-df-quickchart-complete:disabled,\n",
              "  .colab-df-quickchart-complete:disabled:hover {\n",
              "    background-color: var(--disabled-bg-color);\n",
              "    fill: var(--disabled-fill-color);\n",
              "    box-shadow: none;\n",
              "  }\n",
              "\n",
              "  .colab-df-spinner {\n",
              "    border: 2px solid var(--fill-color);\n",
              "    border-color: transparent;\n",
              "    border-bottom-color: var(--fill-color);\n",
              "    animation:\n",
              "      spin 1s steps(1) infinite;\n",
              "  }\n",
              "\n",
              "  @keyframes spin {\n",
              "    0% {\n",
              "      border-color: transparent;\n",
              "      border-bottom-color: var(--fill-color);\n",
              "      border-left-color: var(--fill-color);\n",
              "    }\n",
              "    20% {\n",
              "      border-color: transparent;\n",
              "      border-left-color: var(--fill-color);\n",
              "      border-top-color: var(--fill-color);\n",
              "    }\n",
              "    30% {\n",
              "      border-color: transparent;\n",
              "      border-left-color: var(--fill-color);\n",
              "      border-top-color: var(--fill-color);\n",
              "      border-right-color: var(--fill-color);\n",
              "    }\n",
              "    40% {\n",
              "      border-color: transparent;\n",
              "      border-right-color: var(--fill-color);\n",
              "      border-top-color: var(--fill-color);\n",
              "    }\n",
              "    60% {\n",
              "      border-color: transparent;\n",
              "      border-right-color: var(--fill-color);\n",
              "    }\n",
              "    80% {\n",
              "      border-color: transparent;\n",
              "      border-right-color: var(--fill-color);\n",
              "      border-bottom-color: var(--fill-color);\n",
              "    }\n",
              "    90% {\n",
              "      border-color: transparent;\n",
              "      border-bottom-color: var(--fill-color);\n",
              "    }\n",
              "  }\n",
              "</style>\n",
              "\n",
              "  <script>\n",
              "    async function quickchart(key) {\n",
              "      const quickchartButtonEl =\n",
              "        document.querySelector('#' + key + ' button');\n",
              "      quickchartButtonEl.disabled = true;  // To prevent multiple clicks.\n",
              "      quickchartButtonEl.classList.add('colab-df-spinner');\n",
              "      try {\n",
              "        const charts = await google.colab.kernel.invokeFunction(\n",
              "            'suggestCharts', [key], {});\n",
              "      } catch (error) {\n",
              "        console.error('Error during call to suggestCharts:', error);\n",
              "      }\n",
              "      quickchartButtonEl.classList.remove('colab-df-spinner');\n",
              "      quickchartButtonEl.classList.add('colab-df-quickchart-complete');\n",
              "    }\n",
              "    (() => {\n",
              "      let quickchartButtonEl =\n",
              "        document.querySelector('#df-ad4bce27-e623-4267-8cb3-fcd085b30732 button');\n",
              "      quickchartButtonEl.style.display =\n",
              "        google.colab.kernel.accessAllowed ? 'block' : 'none';\n",
              "    })();\n",
              "  </script>\n",
              "</div>\n",
              "    </div>\n",
              "  </div>\n"
            ]
          },
          "metadata": {},
          "execution_count": 3
        }
      ]
    },
    {
      "cell_type": "code",
      "source": [
        "from sklearn.model_selection import train_test_split\n",
        "\n",
        "fraction_train = 0.7\n",
        "\n",
        "df_train,df_test = train_test_split(df, test_size = ( 1 - fraction_train), random_state = 88,stratify=df['NotFullyPaid'])\n",
        "\n",
        "print(df_train.shape[0])\n",
        "print(df_test.shape[0])"
      ],
      "metadata": {
        "colab": {
          "base_uri": "https://localhost:8080/"
        },
        "id": "C-aa5i81mOb6",
        "outputId": "a14ce7a5-09f7-4a28-cf37-c8ca1ca67cd9"
      },
      "execution_count": null,
      "outputs": [
        {
          "output_type": "stream",
          "name": "stdout",
          "text": [
            "6704\n",
            "2874\n"
          ]
        }
      ]
    },
    {
      "cell_type": "code",
      "source": [
        "value_counts = df_test['NotFullyPaid'].value_counts()\n",
        "count_zero = value_counts[0]\n",
        "print(count_zero)\n",
        "print(\"accurency_baseline=\",count_zero/df_test.shape[0])"
      ],
      "metadata": {
        "colab": {
          "base_uri": "https://localhost:8080/"
        },
        "id": "va-1npcypnIJ",
        "outputId": "9700330a-50e0-4ace-f5ac-ff08e053dc8a"
      },
      "execution_count": null,
      "outputs": [
        {
          "output_type": "stream",
          "name": "stdout",
          "text": [
            "2414\n",
            "accurency_baseline= 0.8399443284620738\n"
          ]
        }
      ]
    },
    {
      "cell_type": "code",
      "source": [
        "df_test['NotFullyPaid'].value_counts()"
      ],
      "metadata": {
        "colab": {
          "base_uri": "https://localhost:8080/"
        },
        "id": "5Yz-SWvKAxjR",
        "outputId": "4b4474fd-755f-4a65-8365-3e7818c00f24"
      },
      "execution_count": null,
      "outputs": [
        {
          "output_type": "execute_result",
          "data": {
            "text/plain": [
              "0    2414\n",
              "1     460\n",
              "Name: NotFullyPaid, dtype: int64"
            ]
          },
          "metadata": {},
          "execution_count": 6
        }
      ]
    },
    {
      "cell_type": "markdown",
      "source": [
        "a i）  test set baseline accurency = 0.839"
      ],
      "metadata": {
        "id": "Fzju5l_-qgv2"
      }
    },
    {
      "cell_type": "code",
      "source": [
        "import statsmodels.formula.api as smf\n",
        "\n",
        "formula = \"NotFullyPaid ~ CreditPolicy\t+ Purpose +\tIntRate +\tInstallment +\tLogAnnualInc +\tDti\t+ Fico +\tDaysWithCrLine +\tRevolBal +\tRevolUtil +\tInqLast6mths +\tDelinq2yrs +\tPubRec\"\n",
        "\n",
        "print(dir(smf))\n",
        "model = smf.logit(formula, data = df_train)\n",
        "LogModel_res = model.fit()\n",
        "\n",
        "print(LogModel_res.summary())"
      ],
      "metadata": {
        "colab": {
          "base_uri": "https://localhost:8080/"
        },
        "id": "9xpDqED-mpBG",
        "outputId": "746e6b49-b309-42fa-9698-23fb7dea53a1"
      },
      "execution_count": null,
      "outputs": [
        {
          "output_type": "stream",
          "name": "stdout",
          "text": [
            "['__all__', '__builtins__', '__cached__', '__doc__', '__file__', '__loader__', '__name__', '__package__', '__spec__', 'conditional_logit', 'conditional_mnlogit', 'conditional_poisson', 'gee', 'glm', 'glmgam', 'gls', 'glsar', 'logit', 'mixedlm', 'mnlogit', 'negativebinomial', 'nominal_gee', 'ols', 'ordinal_gee', 'phreg', 'poisson', 'probit', 'quantreg', 'rlm', 'wls']\n",
            "Optimization terminated successfully.\n",
            "         Current function value: 0.410667\n",
            "         Iterations 6\n",
            "                           Logit Regression Results                           \n",
            "==============================================================================\n",
            "Dep. Variable:           NotFullyPaid   No. Observations:                 6704\n",
            "Model:                          Logit   Df Residuals:                     6685\n",
            "Method:                           MLE   Df Model:                           18\n",
            "Date:                Fri, 10 Nov 2023   Pseudo R-squ.:                 0.06615\n",
            "Time:                        07:54:19   Log-Likelihood:                -2753.1\n",
            "converged:                       True   LL-Null:                       -2948.1\n",
            "Covariance Type:            nonrobust   LLR p-value:                 1.077e-71\n",
            "=================================================================================================\n",
            "                                    coef    std err          z      P>|z|      [0.025      0.975]\n",
            "-------------------------------------------------------------------------------------------------\n",
            "Intercept                         8.3328      1.536      5.427      0.000       5.323      11.342\n",
            "Purpose[T.credit_card]           -0.4823      0.130     -3.713      0.000      -0.737      -0.228\n",
            "Purpose[T.debt_consolidation]    -0.3033      0.093     -3.259      0.001      -0.486      -0.121\n",
            "Purpose[T.educational]            0.1419      0.183      0.776      0.438      -0.217       0.500\n",
            "Purpose[T.home_improvement]       0.0475      0.153      0.310      0.756      -0.252       0.347\n",
            "Purpose[T.major_purchase]        -0.5057      0.206     -2.456      0.014      -0.909      -0.102\n",
            "Purpose[T.small_business]         0.5668      0.141      4.016      0.000       0.290       0.843\n",
            "CreditPolicy                     -0.4327      0.099     -4.349      0.000      -0.628      -0.238\n",
            "IntRate                           0.3771      2.078      0.181      0.856      -3.695       4.449\n",
            "Installment                       0.0012      0.000      5.785      0.000       0.001       0.002\n",
            "LogAnnualInc                     -0.3932      0.071     -5.515      0.000      -0.533      -0.253\n",
            "Dti                               0.0012      0.005      0.226      0.821      -0.009       0.012\n",
            "Fico                             -0.0086      0.002     -5.075      0.000      -0.012      -0.005\n",
            "DaysWithCrLine                 1.228e-05   1.57e-05      0.782      0.434   -1.85e-05    4.31e-05\n",
            "RevolBal                        2.26e-06   1.04e-06      2.181      0.029    2.29e-07    4.29e-06\n",
            "RevolUtil                         0.0027      0.002      1.769      0.077      -0.000       0.006\n",
            "InqLast6mths                      0.0763      0.016      4.784      0.000       0.045       0.108\n",
            "Delinq2yrs                       -0.0896      0.066     -1.354      0.176      -0.219       0.040\n",
            "PubRec                            0.2014      0.114      1.762      0.078      -0.023       0.426\n",
            "=================================================================================================\n"
          ]
        }
      ]
    },
    {
      "cell_type": "markdown",
      "source": [
        "a ii) Purpose[T.credit_card]，Purpose[T.debt_consolidation],Purpose[T.major_purchase], Purpose[T.small_business],CreditPolicy,Installment, LogAnnualInc, Fico,RevolBal, and InqLast6mths are significent.\n",
        "\n"
      ],
      "metadata": {
        "id": "YXxc5RGs3BEf"
      }
    },
    {
      "cell_type": "code",
      "source": [
        "FICO_A = 700\n",
        "FICO_B = 710\n",
        "# Define the coefficient associated with the FICO score\n",
        "\n",
        "fico_coefficient = -0.0086\n",
        "\n",
        "# Calculate Logit(A) - Logit(B)\n",
        "logit_difference = fico_coefficient * (FICO_A - FICO_B)\n",
        "print('a.iii) Logit(A) - Logit(B) = ', logit_difference)"
      ],
      "metadata": {
        "colab": {
          "base_uri": "https://localhost:8080/"
        },
        "id": "79hYpR7ow-qP",
        "outputId": "9a66cc45-01de-43d7-d967-dae1004fd8d1"
      },
      "execution_count": null,
      "outputs": [
        {
          "output_type": "stream",
          "name": "stdout",
          "text": [
            "a.iii) Logit(A) - Logit(B) =  0.086\n"
          ]
        }
      ]
    },
    {
      "cell_type": "markdown",
      "source": [
        "a.iii) Logit(A) - Logit(B) =  0.086"
      ],
      "metadata": {
        "id": "XapWZg59xrbx"
      }
    },
    {
      "cell_type": "code",
      "source": [
        "# predict score of test set adding column of predict score\n",
        "df_test['PredictedRisk'] = LogModel_res.predict(df_test)\n",
        "threshold = 0.5\n",
        "\n",
        "# Classify based on the threshold\n",
        "df_test['Predictedfullpaied_or_not'] = (df_test['PredictedRisk'] > threshold).astype(int)\n",
        "\n",
        "# Calculate the accuracy of the logistic regression model on the test set\n",
        "from sklearn.metrics import accuracy_score\n",
        "\n",
        "# Caltulate accuracy\n",
        "accuracy = accuracy_score(df_test['NotFullyPaid'], df_test['Predictedfullpaied_or_not'])\n",
        "print('accuracy=',accuracy)"
      ],
      "metadata": {
        "id": "UfVS_xVjJUWa",
        "colab": {
          "base_uri": "https://localhost:8080/"
        },
        "outputId": "65eed644-3ed4-4988-9152-e92bd0fd4b54"
      },
      "execution_count": null,
      "outputs": [
        {
          "output_type": "stream",
          "name": "stdout",
          "text": [
            "accuracy= 0.8416840640222686\n"
          ]
        }
      ]
    },
    {
      "cell_type": "markdown",
      "source": [
        "a iv) Accuracy of the logistic regression model on the test set with a threshold of 0.5: accuracy= 0.8416840640222686\n",
        "\n",
        "the accurency_baseline is 0.8399. The threshold of 0.5 model is better than the baseline model."
      ],
      "metadata": {
        "id": "dA_2dwpOC1G5"
      }
    },
    {
      "cell_type": "code",
      "source": [
        "from sklearn.metrics import precision_score, recall_score, f1_score\n",
        "\n",
        "# Calculate precision\n",
        "precision = precision_score(df_test['NotFullyPaid'], df_test['Predictedfullpaied_or_not'])\n",
        "\n",
        "# Calculate recall\n",
        "recall = recall_score(df_test['NotFullyPaid'], df_test['Predictedfullpaied_or_not'])\n",
        "\n",
        "# Calculate F1 score\n",
        "f1 = f1_score(df_test['NotFullyPaid'], df_test['Predictedfullpaied_or_not'])\n",
        "\n",
        "# Print the results\n",
        "print('Precision:', precision)\n",
        "print('Recall:', recall)\n",
        "print('F1 Score:', f1)\n"
      ],
      "metadata": {
        "colab": {
          "base_uri": "https://localhost:8080/"
        },
        "id": "7cNy0NxLOSNV",
        "outputId": "9dcb6d5e-c759-4563-f153-ad5152bc08ad"
      },
      "execution_count": null,
      "outputs": [
        {
          "output_type": "stream",
          "name": "stdout",
          "text": [
            "Precision: 0.6086956521739131\n",
            "Recall: 0.030434782608695653\n",
            "F1 Score: 0.057971014492753624\n"
          ]
        }
      ]
    },
    {
      "cell_type": "code",
      "source": [
        "from sklearn.metrics import roc_auc_score\n",
        "df_test['PredictedRisk'] = LogModel_res.predict(df_test)\n",
        "auc = roc_auc_score(df_test['NotFullyPaid'], df_test['PredictedRisk'])\n",
        "print(auc)\n"
      ],
      "metadata": {
        "colab": {
          "base_uri": "https://localhost:8080/"
        },
        "id": "42af8y9BACfo",
        "outputId": "384b54c9-860f-47c0-a81d-099f03843be6"
      },
      "execution_count": null,
      "outputs": [
        {
          "output_type": "stream",
          "name": "stdout",
          "text": [
            "0.6847267749720831\n"
          ]
        }
      ]
    },
    {
      "cell_type": "markdown",
      "source": [
        "av) AUC of the logistic regression model on the test set: is 0.684\n",
        "Precision: 0.6086956521739131\n",
        "Recall: 0.030434782608695653\n",
        "F1 Score: 0.057971014492753624"
      ],
      "metadata": {
        "id": "fIrXKrNAE1O1"
      }
    },
    {
      "cell_type": "code",
      "source": [
        "formula = \"NotFullyPaid ~ IntRate\"\n",
        "\n",
        "model = smf.logit(formula, data = df_train)\n",
        "LogModel_IntRate_res = model.fit()\n",
        "\n",
        "print(LogModel_IntRate_res.summary())"
      ],
      "metadata": {
        "colab": {
          "base_uri": "https://localhost:8080/"
        },
        "id": "9GLBb5aMDY_1",
        "outputId": "1f252327-4aba-45de-9b3f-bdfade5a3b34"
      },
      "execution_count": null,
      "outputs": [
        {
          "output_type": "stream",
          "name": "stdout",
          "text": [
            "Optimization terminated successfully.\n",
            "         Current function value: 0.428074\n",
            "         Iterations 6\n",
            "                           Logit Regression Results                           \n",
            "==============================================================================\n",
            "Dep. Variable:           NotFullyPaid   No. Observations:                 6704\n",
            "Model:                          Logit   Df Residuals:                     6702\n",
            "Method:                           MLE   Df Model:                            1\n",
            "Date:                Fri, 10 Nov 2023   Pseudo R-squ.:                 0.02657\n",
            "Time:                        07:54:54   Log-Likelihood:                -2869.8\n",
            "converged:                       True   LL-Null:                       -2948.1\n",
            "Covariance Type:            nonrobust   LLR p-value:                 6.025e-36\n",
            "==============================================================================\n",
            "                 coef    std err          z      P>|z|      [0.025      0.975]\n",
            "------------------------------------------------------------------------------\n",
            "Intercept     -3.6429      0.169    -21.554      0.000      -3.974      -3.312\n",
            "IntRate       15.6922      1.273     12.328      0.000      13.197      18.187\n",
            "==============================================================================\n"
          ]
        }
      ]
    },
    {
      "cell_type": "markdown",
      "source": [
        "b i) IntRate is significant in the model. It is not significant in the first model.It is likely because the Interest Rate might have been associated with other variables, rendering the values unreliable. In this case, including only one variable ensures that such correlations do not happen."
      ],
      "metadata": {
        "id": "1emH1RvhHJNB"
      }
    },
    {
      "cell_type": "code",
      "source": [
        "predicted_probabilities_IntRate = LogModel_IntRate_res.predict(df_test['IntRate'])\n",
        "\n",
        "# Calculate the highest predicted probability of a loan not being paid back in full\n",
        "highest_predicted_probability = max(predicted_probabilities_IntRate)\n",
        "\n",
        "# Threshold of 0.5 to classify loans\n",
        "threshold = 0.5\n",
        "predicted_numbers = (predicted_probabilities_IntRate > threshold).astype(int)\n",
        "\n",
        "# Count the number of loans predicted not to be paid back in full\n",
        "loans_predicted_notfullypaid_num = sum(predicted_numbers)\n",
        "\n",
        "print('highest_predicted_probability is' ,highest_predicted_probability)\n",
        "print('loans_predicted_notfullypaid_num is ',loans_predicted_notfullypaid_num )"
      ],
      "metadata": {
        "colab": {
          "base_uri": "https://localhost:8080/"
        },
        "id": "rsUtO1YJIBK4",
        "outputId": "5a7751ea-66e2-465c-ece5-cc7621a53a85"
      },
      "execution_count": null,
      "outputs": [
        {
          "output_type": "stream",
          "name": "stdout",
          "text": [
            "highest_predicted_probability is 0.43852835776617893\n",
            "loans_predicted_notfullypaid_num is  0\n"
          ]
        }
      ]
    },
    {
      "cell_type": "markdown",
      "source": [
        "b ii)\n",
        "1. The highest predicted probability is approximately 0.439.\n",
        "2. The number of loans predicted as not fully paid is 0."
      ],
      "metadata": {
        "id": "7fAtwAwaKLy4"
      }
    },
    {
      "cell_type": "code",
      "source": [
        "\n",
        "df_test['PredictedRisk_IntRisk'] = LogModel_IntRate_res.predict(df_test)\n",
        "auc_roc_IntRate = roc_auc_score(df_test['NotFullyPaid'], df_test['PredictedRisk_IntRisk'])\n",
        "print(auc_roc_IntRate)"
      ],
      "metadata": {
        "colab": {
          "base_uri": "https://localhost:8080/"
        },
        "id": "ArfloK37KQsI",
        "outputId": "4125e6d8-5d96-4e01-81b7-2182683598e6"
      },
      "execution_count": null,
      "outputs": [
        {
          "output_type": "stream",
          "name": "stdout",
          "text": [
            "0.6258735276106768\n"
          ]
        }
      ]
    },
    {
      "cell_type": "code",
      "source": [
        "from sklearn.metrics import precision_score, recall_score, f1_score\n",
        "\n",
        "# Add a column for predicted class based on the threshold\n",
        "df_test['Predicted_Class'] = (df_test['PredictedRisk_IntRisk'] > threshold).astype(int)\n",
        "\n",
        "# Calculate precision\n",
        "precision = precision_score(df_test['NotFullyPaid'], df_test['Predicted_Class'])\n",
        "\n",
        "# Calculate recall\n",
        "recall = recall_score(df_test['NotFullyPaid'], df_test['Predicted_Class'])\n",
        "\n",
        "# Calculate F1 score\n",
        "f1 = f1_score(df_test['NotFullyPaid'], df_test['Predicted_Class'])\n",
        "\n",
        "# Print the results\n",
        "print('Precision:', precision)\n",
        "print('Recall:', recall)\n",
        "print('F1 Score:', f1)\n"
      ],
      "metadata": {
        "colab": {
          "base_uri": "https://localhost:8080/"
        },
        "id": "Juhi4dA_PYc8",
        "outputId": "eb5d4612-cf14-4301-c3d0-bda925fa28f3"
      },
      "execution_count": null,
      "outputs": [
        {
          "output_type": "stream",
          "name": "stdout",
          "text": [
            "Precision: 0.0\n",
            "Recall: 0.0\n",
            "F1 Score: 0.0\n"
          ]
        },
        {
          "output_type": "stream",
          "name": "stderr",
          "text": [
            "/usr/local/lib/python3.10/dist-packages/sklearn/metrics/_classification.py:1344: UndefinedMetricWarning: Precision is ill-defined and being set to 0.0 due to no predicted samples. Use `zero_division` parameter to control this behavior.\n",
            "  _warn_prf(average, modifier, msg_start, len(result))\n"
          ]
        }
      ]
    },
    {
      "cell_type": "markdown",
      "source": [
        "b.iii) Generally, a superior AUC denotes enhanced model prediction capabilities; however, one must weigh this against the consequent loss in interpretability and the heightened danger of overfitting during the process of model selection.\n",
        "\n",
        "The AUC of the IntRate model on the test set is 0.6258, it is lower than the model using all the independent varibles. The first model has better predictive accuracy.\n",
        "\n",
        "Precision: 0.0\n",
        "Recall: 0.0\n",
        "F1 Score: 0.0\n",
        "\n",
        "\n",
        "\n"
      ],
      "metadata": {
        "id": "yVVLrLH7MO24"
      }
    },
    {
      "cell_type": "code",
      "source": [
        "import math\n",
        "profit6year = 10 * math.exp(3 * 0.06)\n",
        "print('profit =', profit6year)"
      ],
      "metadata": {
        "colab": {
          "base_uri": "https://localhost:8080/"
        },
        "id": "8vgBiF1JoUVX",
        "outputId": "2374bbe2-b15b-435e-c4da-d09f83d352eb"
      },
      "execution_count": null,
      "outputs": [
        {
          "output_type": "stream",
          "name": "stdout",
          "text": [
            "profit = 11.972173631218102\n"
          ]
        }
      ]
    },
    {
      "cell_type": "markdown",
      "source": [
        "c i) A 10 investment with an annual interest rate of 6% pay back after\n",
        "3 years, using continuous compounding of interest is $11.97\n"
      ],
      "metadata": {
        "id": "N0GynW9_nt6b"
      }
    },
    {
      "cell_type": "markdown",
      "source": [
        "c ii) If the investment is paid back in full:\n",
        "Profit = 11.97 - 10 = 1.97\n",
        "\n",
        "If the investment is not paid back in full: Profit = -10.00\n"
      ],
      "metadata": {
        "id": "Pjjn00CVrQnW"
      }
    },
    {
      "cell_type": "code",
      "source": [
        "import numpy as np\n",
        "\n",
        "df_test['AmountRepaid'] = 1 * np.exp(df['IntRate'] * 3)\n",
        "df_test['Profit'] = np.where(df_test['NotFullyPaid'] == 0, df_test['AmountRepaid'] - 1, 0)  # 0 profit if not fully paid\n",
        "\n",
        "# To find the maximum profit\n",
        "max_profit = df_test['Profit'].max()\n",
        "print(f'Maximum profit: ${max_profit:.2f}')"
      ],
      "metadata": {
        "colab": {
          "base_uri": "https://localhost:8080/"
        },
        "id": "kVwkWXItsRQv",
        "outputId": "e2b68c43-e1e6-42c1-e4c4-92beddc28a24"
      },
      "execution_count": null,
      "outputs": [
        {
          "output_type": "stream",
          "name": "stdout",
          "text": [
            "Maximum profit: $0.89\n"
          ]
        }
      ]
    },
    {
      "cell_type": "markdown",
      "source": [
        "   c.iii) Maximum profit of a 1 dollar investment in any loan in the testing set: $0.89"
      ],
      "metadata": {
        "id": "Fjh2WrZ8xPs5"
      }
    },
    {
      "cell_type": "code",
      "source": [
        "#select the data with IntRate higher than 0.15 to a new data sheet caeed HighInterest\n",
        "HighInterest = df_test[df_test['IntRate'] >= 0.15]\n",
        "\n",
        "# Sort the HighInterest dataset by predicted risk in ascending order\n",
        "HighInterest = HighInterest.sort_values(by='PredictedRisk', ascending=True)\n",
        "\n",
        "\n",
        "#calculate the average profit of a $1 investment\n",
        "average_profit = HighInterest['Profit'].mean()\n",
        "\n",
        "#caltulate the proportion not paid back in full\n",
        "not_fully_paid_proportion = HighInterest['NotFullyPaid'].mean()\n",
        "\n",
        "\n",
        "print('average_profit =', average_profit)\n",
        "print('not_fully_paid_proportion = ',not_fully_paid_proportion)"
      ],
      "metadata": {
        "colab": {
          "base_uri": "https://localhost:8080/"
        },
        "id": "YpP2JI8ZxUk9",
        "outputId": "95e3d3f4-1dce-4ac2-9058-b96ecebb9160"
      },
      "execution_count": null,
      "outputs": [
        {
          "output_type": "stream",
          "name": "stdout",
          "text": [
            "average_profit = 0.4638554709463622\n",
            "not_fully_paid_proportion =  0.2773722627737226\n"
          ]
        }
      ]
    },
    {
      "cell_type": "markdown",
      "source": [
        "c iv) Average profit of a $1 investment in one of the high-interest loans is 0.51\n",
        "\n",
        "Proportion of high-interest loans not paid back in full: 17.00%"
      ],
      "metadata": {
        "id": "z_icRUQjz4Qc"
      }
    },
    {
      "cell_type": "code",
      "source": [
        "# Sort the loans in the HighInterest dataset by the variable PredictedRisk\n",
        "\n",
        "# Sort the HighInterest dataset by predicted risk in ascending order\n",
        "HighInterest = HighInterest.sort_values(by='PredictedRisk', ascending=True)\n",
        "\n",
        "#Create a new dataset called SelectedLoans that consists of the 100 loans with the smallest values of Predictedisk.\n",
        "SelectedLoans = HighInterest.head(100)\n",
        "\n",
        "# Compute the profit from investing $1 in each of these 100 loans\n",
        "total_profit = SelectedLoans['Profit'].sum()\n",
        "print(f'Total profit: ${total_profit:.2f}')\n",
        "\n",
        "# Count the number of selected loans not paid back in full\n",
        "not_paid_back_count = SelectedLoans['NotFullyPaid'].sum()\n",
        "print(f'Number of loans not paid back in full: {not_paid_back_count}')\n",
        "\n",
        "# Compare to simple strategy\n",
        "simple_strategy_profit = 20.94\n",
        "print(f'Difference in profit: ${total_profit - simple_strategy_profit:.2f}')"
      ],
      "metadata": {
        "colab": {
          "base_uri": "https://localhost:8080/"
        },
        "id": "cxtmL1Xr373E",
        "outputId": "6b00dee8-8ddf-4315-e9a3-03d8b886bbec"
      },
      "execution_count": null,
      "outputs": [
        {
          "output_type": "stream",
          "name": "stdout",
          "text": [
            "Total profit: $51.70\n",
            "Number of loans not paid back in full: 17\n",
            "Difference in profit: $30.76\n"
          ]
        }
      ]
    },
    {
      "cell_type": "code",
      "source": [],
      "metadata": {
        "id": "TzI3AtwjCg_S"
      },
      "execution_count": null,
      "outputs": []
    },
    {
      "cell_type": "markdown",
      "source": [
        "c iv) Total profit: 51.70\n",
        "\n",
        "Number of loans not paid back in full: 17\n",
        "\n",
        "Difference in profit: 30.76"
      ],
      "metadata": {
        "id": "zdAt3x5n9lzb"
      }
    },
    {
      "cell_type": "markdown",
      "source": [
        "d) One common assumption that may not hold in fnancial situations is the assumption of stationarity, which posits that the underlying data generating process does not change over time. Financial data can be highly volatile and infuenced by numerous external factors, leading to non-stationary data distributions.\n",
        "\n",
        "As an analyst, improving model performance under such circumstances could involve:\n",
        "\n",
        "1)Feature Engineering: Create features that capture the changing dynamics of financial markets.\n",
        "\n",
        "2)Model Updating: Regularly update models with recent data to capture the latest trends.\n",
        "\n",
        "3)Anomaly Detection: Incorporate anomaly detection to identify and adjust for shifts in data distributions."
      ],
      "metadata": {
        "id": "KF7adweW-n16"
      }
    }
  ]
}
